{
 "cells": [
  {
   "cell_type": "code",
   "execution_count": 1,
   "metadata": {},
   "outputs": [],
   "source": [
    "import numpy as np\n",
    "import cupy as cp\n",
    "import time"
   ]
  },
  {
   "cell_type": "code",
   "execution_count": 2,
   "metadata": {},
   "outputs": [],
   "source": [
    "def vector_sum_cpu(vector):\n",
    "    result_cpu = 0\n",
    "    for element in vector:\n",
    "        result_cpu += element\n",
    "    return result_cpu"
   ]
  },
  {
   "cell_type": "code",
   "execution_count": 3,
   "metadata": {},
   "outputs": [],
   "source": [
    "def vector_sum_gpu(vector):\n",
    "    vector_gpu = cp.asarray(vector)\n",
    "    result_gpu = cp.sum(vector_gpu)\n",
    "    result_cpu = cp.asnumpy(result_gpu)\n",
    "    return result_cpu"
   ]
  },
  {
   "cell_type": "code",
   "execution_count": 4,
   "metadata": {},
   "outputs": [
    {
     "name": "stdout",
     "output_type": "stream",
     "text": [
      "Сумма на CPU: 499714.17696396617, Время выполнения на CPU: 0.04876518249511719 секунд\n",
      "Сумма на GPU: 499714.17696394824, Время выполнения на GPU: 0.14769792556762695 секунд\n"
     ]
    }
   ],
   "source": [
    "vector_size = 1000000\n",
    "vector = np.random.rand(vector_size)\n",
    "\n",
    "# Сложение на CPU\n",
    "start_time_cpu = time.time()\n",
    "result_cpu = vector_sum_cpu(vector)\n",
    "end_time_cpu = time.time()\n",
    "\n",
    "cpu_time = end_time_cpu - start_time_cpu\n",
    "print(f\"Сумма на CPU: {result_cpu}, Время выполнения на CPU: {cpu_time} секунд\")\n",
    "\n",
    "# Сложение на GPU\n",
    "start_time_gpu = time.time()\n",
    "result_gpu = vector_sum_gpu(vector)\n",
    "end_time_gpu = time.time()\n",
    "\n",
    "gpu_time = end_time_gpu - start_time_gpu\n",
    "print(f\"Сумма на GPU: {result_gpu}, Время выполнения на GPU: {gpu_time} секунд\")    "
   ]
  }
 ],
 "metadata": {
  "kernelspec": {
   "display_name": "Python 3",
   "language": "python",
   "name": "python3"
  },
  "language_info": {
   "codemirror_mode": {
    "name": "ipython",
    "version": 3
   },
   "file_extension": ".py",
   "mimetype": "text/x-python",
   "name": "python",
   "nbconvert_exporter": "python",
   "pygments_lexer": "ipython3",
   "version": "3.10.11"
  }
 },
 "nbformat": 4,
 "nbformat_minor": 2
}
