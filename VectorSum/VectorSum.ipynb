{
 "cells": [
  {
   "cell_type": "code",
   "execution_count": 1,
   "metadata": {},
   "outputs": [],
   "source": [
    "import numpy as np\n",
    "import cupy as cp\n",
    "import time"
   ]
  },
  {
   "cell_type": "code",
   "execution_count": 2,
   "metadata": {},
   "outputs": [],
   "source": [
    "def vector_sum_cpu(vector):\n",
    "    result_cpu = 0\n",
    "    for element in vector:\n",
    "        result_cpu += element\n",
    "    return result_cpu"
   ]
  },
  {
   "cell_type": "code",
   "execution_count": 3,
   "metadata": {},
   "outputs": [],
   "source": [
    "def vector_sum_gpu(vector):\n",
    "    vector_gpu = cp.asarray(vector)\n",
    "    result_gpu = cp.sum(vector_gpu)\n",
    "    result_cpu = cp.asnumpy(result_gpu)\n",
    "    return result_cpu"
   ]
  },
  {
   "cell_type": "code",
   "execution_count": 15,
   "metadata": {},
   "outputs": [
    {
     "name": "stdout",
     "output_type": "stream",
     "text": [
      "Сумма на CPU: 502.99950407721786, Время выполнения на CPU: 0.0005352497100830078 секунд\n",
      "Сумма на GPU: 502.99950407721775, Время выполнения на GPU: 0.0021071434020996094 секунд\n"
     ]
    }
   ],
   "source": [
    "vector_size = 1000\n",
    "vector = np.random.rand(vector_size)\n",
    "\n",
    "# Сложение на CPU\n",
    "start_time_cpu = time.time()\n",
    "result_cpu = vector_sum_cpu(vector)\n",
    "end_time_cpu = time.time()\n",
    "\n",
    "cpu_time = end_time_cpu - start_time_cpu\n",
    "print(f\"Сумма на CPU: {result_cpu}, Время выполнения на CPU: {cpu_time} секунд\")\n",
    "\n",
    "# Сложение на GPU\n",
    "start_time_gpu = time.time()\n",
    "result_gpu = vector_sum_gpu(vector)\n",
    "end_time_gpu = time.time()\n",
    "\n",
    "gpu_time = end_time_gpu - start_time_gpu\n",
    "print(f\"Сумма на GPU: {result_gpu}, Время выполнения на GPU: {gpu_time} секунд\")    "
   ]
  },
  {
   "cell_type": "code",
   "execution_count": 16,
   "metadata": {},
   "outputs": [
    {
     "name": "stdout",
     "output_type": "stream",
     "text": [
      "Сумма на CPU: 5016.4290514109825, Время выполнения на CPU: 0.0010020732879638672 секунд\n",
      "Сумма на GPU: 5016.429051410992, Время выполнения на GPU: 0.0009996891021728516 секунд\n"
     ]
    }
   ],
   "source": [
    "vector_size = 10000\n",
    "vector = np.random.rand(vector_size)\n",
    "\n",
    "# Сложение на CPU\n",
    "start_time_cpu = time.time()\n",
    "result_cpu = vector_sum_cpu(vector)\n",
    "end_time_cpu = time.time()\n",
    "\n",
    "cpu_time = end_time_cpu - start_time_cpu\n",
    "print(f\"Сумма на CPU: {result_cpu}, Время выполнения на CPU: {cpu_time} секунд\")\n",
    "\n",
    "# Сложение на GPU\n",
    "start_time_gpu = time.time()\n",
    "result_gpu = vector_sum_gpu(vector)\n",
    "end_time_gpu = time.time()\n",
    "\n",
    "gpu_time = end_time_gpu - start_time_gpu\n",
    "print(f\"Сумма на GPU: {result_gpu}, Время выполнения на GPU: {gpu_time} секунд\")    "
   ]
  },
  {
   "cell_type": "code",
   "execution_count": 17,
   "metadata": {},
   "outputs": [
    {
     "name": "stdout",
     "output_type": "stream",
     "text": [
      "Сумма на CPU: 49995.38013009982, Время выполнения на CPU: 0.005003452301025391 секунд\n",
      "Сумма на GPU: 49995.38013009983, Время выполнения на GPU: 0.00499415397644043 секунд\n"
     ]
    }
   ],
   "source": [
    "vector_size = 100000\n",
    "vector = np.random.rand(vector_size)\n",
    "\n",
    "# Сложение на CPU\n",
    "start_time_cpu = time.time()\n",
    "result_cpu = vector_sum_cpu(vector)\n",
    "end_time_cpu = time.time()\n",
    "\n",
    "cpu_time = end_time_cpu - start_time_cpu\n",
    "print(f\"Сумма на CPU: {result_cpu}, Время выполнения на CPU: {cpu_time} секунд\")\n",
    "\n",
    "# Сложение на GPU\n",
    "start_time_gpu = time.time()\n",
    "result_gpu = vector_sum_gpu(vector)\n",
    "end_time_gpu = time.time()\n",
    "\n",
    "gpu_time = end_time_gpu - start_time_gpu\n",
    "print(f\"Сумма на GPU: {result_gpu}, Время выполнения на GPU: {gpu_time} секунд\")    "
   ]
  },
  {
   "cell_type": "code",
   "execution_count": 18,
   "metadata": {},
   "outputs": [
    {
     "name": "stdout",
     "output_type": "stream",
     "text": [
      "Сумма на CPU: 500320.66229143896, Время выполнения на CPU: 0.05040907859802246 секунд\n",
      "Сумма на GPU: 500320.66229143133, Время выполнения на GPU: 0.00500035285949707 секунд\n"
     ]
    }
   ],
   "source": [
    "vector_size = 1000000\n",
    "vector = np.random.rand(vector_size)\n",
    "\n",
    "# Сложение на CPU\n",
    "start_time_cpu = time.time()\n",
    "result_cpu = vector_sum_cpu(vector)\n",
    "end_time_cpu = time.time()\n",
    "\n",
    "cpu_time = end_time_cpu - start_time_cpu\n",
    "print(f\"Сумма на CPU: {result_cpu}, Время выполнения на CPU: {cpu_time} секунд\")\n",
    "\n",
    "# Сложение на GPU\n",
    "start_time_gpu = time.time()\n",
    "result_gpu = vector_sum_gpu(vector)\n",
    "end_time_gpu = time.time()\n",
    "\n",
    "gpu_time = end_time_gpu - start_time_gpu\n",
    "print(f\"Сумма на GPU: {result_gpu}, Время выполнения на GPU: {gpu_time} секунд\")    "
   ]
  },
  {
   "cell_type": "code",
   "execution_count": 21,
   "metadata": {},
   "outputs": [
    {
     "name": "stdout",
     "output_type": "stream",
     "text": [
      "Сумма на CPU: 4999503.079631773, Время выполнения на CPU: 0.500321626663208 секунд\n",
      "Сумма на GPU: 4999503.079632387, Время выполнения на GPU: 0.09285140037536621 секунд\n"
     ]
    }
   ],
   "source": [
    "vector_size = 10000000\n",
    "vector = np.random.rand(vector_size)\n",
    "\n",
    "# Сложение на CPU\n",
    "start_time_cpu = time.time()\n",
    "result_cpu = vector_sum_cpu(vector)\n",
    "end_time_cpu = time.time()\n",
    "\n",
    "cpu_time = end_time_cpu - start_time_cpu\n",
    "print(f\"Сумма на CPU: {result_cpu}, Время выполнения на CPU: {cpu_time} секунд\")\n",
    "\n",
    "# Сложение на GPU\n",
    "start_time_gpu = time.time()\n",
    "result_gpu = vector_sum_gpu(vector)\n",
    "end_time_gpu = time.time()\n",
    "\n",
    "gpu_time = end_time_gpu - start_time_gpu\n",
    "print(f\"Сумма на GPU: {result_gpu}, Время выполнения на GPU: {gpu_time} секунд\")    "
   ]
  },
  {
   "cell_type": "code",
   "execution_count": 20,
   "metadata": {},
   "outputs": [
    {
     "name": "stdout",
     "output_type": "stream",
     "text": [
      "Сумма на CPU: 50001617.07631788, Время выполнения на CPU: 5.042378187179565 секунд\n",
      "Сумма на GPU: 50001617.07631542, Время выполнения на GPU: 0.6173648834228516 секунд\n"
     ]
    }
   ],
   "source": [
    "vector_size = 100000000\n",
    "vector = np.random.rand(vector_size)\n",
    "\n",
    "# Сложение на CPU\n",
    "start_time_cpu = time.time()\n",
    "result_cpu = vector_sum_cpu(vector)\n",
    "end_time_cpu = time.time()\n",
    "\n",
    "cpu_time = end_time_cpu - start_time_cpu\n",
    "print(f\"Сумма на CPU: {result_cpu}, Время выполнения на CPU: {cpu_time} секунд\")\n",
    "\n",
    "# Сложение на GPU\n",
    "start_time_gpu = time.time()\n",
    "result_gpu = vector_sum_gpu(vector)\n",
    "end_time_gpu = time.time()\n",
    "\n",
    "gpu_time = end_time_gpu - start_time_gpu\n",
    "print(f\"Сумма на GPU: {result_gpu}, Время выполнения на GPU: {gpu_time} секунд\")    "
   ]
  },
  {
   "cell_type": "code",
   "execution_count": 22,
   "metadata": {},
   "outputs": [
    {
     "name": "stdout",
     "output_type": "stream",
     "text": [
      "Сумма на CPU: 49998562.984551504, Время выполнения на CPU: 4.891952991485596 секунд\n",
      "Сумма на GPU: 49998562.98455838, Время выполнения на GPU: 0.4043457508087158 секунд\n"
     ]
    }
   ],
   "source": [
    "vector_size = 100000000\n",
    "vector = np.random.rand(vector_size)\n",
    "\n",
    "# Сложение на CPU\n",
    "start_time_cpu = time.time()\n",
    "result_cpu = vector_sum_cpu(vector)\n",
    "end_time_cpu = time.time()\n",
    "\n",
    "cpu_time = end_time_cpu - start_time_cpu\n",
    "print(f\"Сумма на CPU: {result_cpu}, Время выполнения на CPU: {cpu_time} секунд\")\n",
    "\n",
    "# Сложение на GPU\n",
    "start_time_gpu = time.time()\n",
    "result_gpu = vector_sum_gpu(vector)\n",
    "end_time_gpu = time.time()\n",
    "\n",
    "gpu_time = end_time_gpu - start_time_gpu\n",
    "print(f\"Сумма на GPU: {result_gpu}, Время выполнения на GPU: {gpu_time} секунд\")    "
   ]
  }
 ],
 "metadata": {
  "kernelspec": {
   "display_name": "Python 3",
   "language": "python",
   "name": "python3"
  },
  "language_info": {
   "codemirror_mode": {
    "name": "ipython",
    "version": 3
   },
   "file_extension": ".py",
   "mimetype": "text/x-python",
   "name": "python",
   "nbconvert_exporter": "python",
   "pygments_lexer": "ipython3",
   "version": "3.10.11"
  }
 },
 "nbformat": 4,
 "nbformat_minor": 2
}
