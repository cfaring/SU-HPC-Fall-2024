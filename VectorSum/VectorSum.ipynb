{
 "cells": [
  {
   "cell_type": "code",
   "execution_count": 1,
   "metadata": {},
   "outputs": [],
   "source": [
    "import numpy as np\n",
    "import cupy as cp\n",
    "import time"
   ]
  },
  {
   "cell_type": "code",
   "execution_count": 2,
   "metadata": {},
   "outputs": [],
   "source": [
    "vector_sum_kernel = cp.RawKernel(r'''\n",
    "extern \"C\" __global__\n",
    "void vector_sum(const float* A, float* result, int N) {\n",
    "    // Calculate global thread index\n",
    "    int idx = blockIdx.x * blockDim.x + threadIdx.x;\n",
    "\n",
    "    // Shared memory for reduction\n",
    "    __shared__ float cache[256];\n",
    "\n",
    "    float temp = 0.0;\n",
    "    if (idx < N) {\n",
    "        temp = A[idx];\n",
    "    } else {\n",
    "        temp = 0.0;\n",
    "    }\n",
    "    \n",
    "    // Store value in shared memory\n",
    "    cache[threadIdx.x] = temp;\n",
    "    __syncthreads();\n",
    "\n",
    "    // Perform reduction in shared memory\n",
    "    for (int stride = blockDim.x / 2; stride > 0; stride /= 2) {\n",
    "        if (threadIdx.x < stride) {\n",
    "            cache[threadIdx.x] += cache[threadIdx.x + stride];\n",
    "        }\n",
    "        __syncthreads();\n",
    "    }\n",
    "\n",
    "    // Write the block result to global memory\n",
    "    if (threadIdx.x == 0) {\n",
    "        atomicAdd(result, cache[0]);\n",
    "    }\n",
    "}\n",
    "''', 'vector_sum')\n"
   ]
  },
  {
   "cell_type": "code",
   "execution_count": 3,
   "metadata": {},
   "outputs": [],
   "source": [
    "def vector_sum_cpu(vector):\n",
    "    result_cpu = 0\n",
    "    for element in vector:\n",
    "        result_cpu += element\n",
    "    return result_cpu"
   ]
  },
  {
   "cell_type": "code",
   "execution_count": 4,
   "metadata": {},
   "outputs": [],
   "source": [
    "def vector_sum_gpu(vector):\n",
    "    N = vector.size\n",
    "    A_gpu = cp.asarray(vector, dtype=cp.float32)\n",
    "\n",
    "    # Prepare the result array (single float for the final total)\n",
    "    result_gpu = cp.zeros(1, dtype=cp.float32)\n",
    "    \n",
    "    # Define block and grid sizes\n",
    "    block_size = 256\n",
    "    grid_size = (N + block_size - 1) // block_size\n",
    "\n",
    "    # Launch the kernel\n",
    "    vector_sum_kernel((grid_size,), (block_size,), (A_gpu, result_gpu, N))\n",
    "    \n",
    "    # Retrieve the result\n",
    "    return cp.asnumpy(result_gpu[0])  # Convert back to CPU\n"
   ]
  },
  {
   "cell_type": "code",
   "execution_count": 5,
   "metadata": {},
   "outputs": [
    {
     "name": "stdout",
     "output_type": "stream",
     "text": [
      "Сумма на CPU: 499814.68238035165, Время выполнения на CPU: 0.093999 секунд\n",
      "Сумма на GPU: 499813.6875, Время выполнения на GPU: 0.558191 секунд\n"
     ]
    }
   ],
   "source": [
    "vector_size = 1000000  # Change this value as needed\n",
    "vector = np.random.rand(vector_size).astype(np.float32)\n",
    "\n",
    "# Sum on CPU\n",
    "start_time_cpu = time.time()\n",
    "result_cpu = vector_sum_cpu(vector)\n",
    "end_time_cpu = time.time()\n",
    "\n",
    "cpu_time = end_time_cpu - start_time_cpu\n",
    "\n",
    "print(f\"Сумма на CPU: {result_cpu}, Время выполнения на CPU: {cpu_time:.6f} секунд\")\n",
    "\n",
    "# Sum on GPU\n",
    "start_time_gpu = time.time()\n",
    "result_gpu = vector_sum_gpu(vector)\n",
    "end_time_gpu = time.time()\n",
    "\n",
    "gpu_time = end_time_gpu - start_time_gpu\n",
    "\n",
    "print(f\"Сумма на GPU: {result_gpu}, Время выполнения на GPU: {gpu_time:.6f} секунд\")"
   ]
  },
  {
   "cell_type": "code",
   "execution_count": 19,
   "metadata": {},
   "outputs": [
    {
     "name": "stdout",
     "output_type": "stream",
     "text": [
      "Сумма на CPU: 500127.6603554417, Время выполнения на CPU: 0.05231952667236328 секунд\n",
      "Сумма на GPU: 500128.4375, Время выполнения на GPU: 0.0020008087158203125 секунд\n"
     ]
    }
   ],
   "source": [
    "vector_size = 1000000\n",
    "vector = np.random.rand(vector_size)\n",
    "\n",
    "# Сложение на CPU\n",
    "start_time_cpu = time.time()\n",
    "result_cpu = vector_sum_cpu(vector)\n",
    "end_time_cpu = time.time()\n",
    "\n",
    "cpu_time = end_time_cpu - start_time_cpu\n",
    "print(f\"Сумма на CPU: {result_cpu}, Время выполнения на CPU: {cpu_time} секунд\")\n",
    "\n",
    "# Сложение на GPU\n",
    "start_time_gpu = time.time()\n",
    "result_gpu = vector_sum_gpu(vector)\n",
    "end_time_gpu = time.time()\n",
    "\n",
    "gpu_time = end_time_gpu - start_time_gpu\n",
    "print(f\"Сумма на GPU: {result_gpu}, Время выполнения на GPU: {gpu_time} секунд\")    "
   ]
  },
  {
   "cell_type": "code",
   "execution_count": 17,
   "metadata": {},
   "outputs": [
    {
     "name": "stdout",
     "output_type": "stream",
     "text": [
      "Сумма на CPU: 49995.38013009982, Время выполнения на CPU: 0.005003452301025391 секунд\n",
      "Сумма на GPU: 49995.38013009983, Время выполнения на GPU: 0.00499415397644043 секунд\n"
     ]
    }
   ],
   "source": [
    "vector_size = 100000\n",
    "vector = np.random.rand(vector_size)\n",
    "\n",
    "# Сложение на CPU\n",
    "start_time_cpu = time.time()\n",
    "result_cpu = vector_sum_cpu(vector)\n",
    "end_time_cpu = time.time()\n",
    "\n",
    "cpu_time = end_time_cpu - start_time_cpu\n",
    "print(f\"Сумма на CPU: {result_cpu}, Время выполнения на CPU: {cpu_time} секунд\")\n",
    "\n",
    "# Сложение на GPU\n",
    "start_time_gpu = time.time()\n",
    "result_gpu = vector_sum_gpu(vector)\n",
    "end_time_gpu = time.time()\n",
    "\n",
    "gpu_time = end_time_gpu - start_time_gpu\n",
    "print(f\"Сумма на GPU: {result_gpu}, Время выполнения на GPU: {gpu_time} секунд\")    "
   ]
  },
  {
   "cell_type": "code",
   "execution_count": 18,
   "metadata": {},
   "outputs": [
    {
     "name": "stdout",
     "output_type": "stream",
     "text": [
      "Сумма на CPU: 500320.66229143896, Время выполнения на CPU: 0.05040907859802246 секунд\n",
      "Сумма на GPU: 500320.66229143133, Время выполнения на GPU: 0.00500035285949707 секунд\n"
     ]
    }
   ],
   "source": [
    "vector_size = 1000000\n",
    "vector = np.random.rand(vector_size)\n",
    "\n",
    "# Сложение на CPU\n",
    "start_time_cpu = time.time()\n",
    "result_cpu = vector_sum_cpu(vector)\n",
    "end_time_cpu = time.time()\n",
    "\n",
    "cpu_time = end_time_cpu - start_time_cpu\n",
    "print(f\"Сумма на CPU: {result_cpu}, Время выполнения на CPU: {cpu_time} секунд\")\n",
    "\n",
    "# Сложение на GPU\n",
    "start_time_gpu = time.time()\n",
    "result_gpu = vector_sum_gpu(vector)\n",
    "end_time_gpu = time.time()\n",
    "\n",
    "gpu_time = end_time_gpu - start_time_gpu\n",
    "print(f\"Сумма на GPU: {result_gpu}, Время выполнения на GPU: {gpu_time} секунд\")    "
   ]
  },
  {
   "cell_type": "code",
   "execution_count": 21,
   "metadata": {},
   "outputs": [
    {
     "name": "stdout",
     "output_type": "stream",
     "text": [
      "Сумма на CPU: 4999503.079631773, Время выполнения на CPU: 0.500321626663208 секунд\n",
      "Сумма на GPU: 4999503.079632387, Время выполнения на GPU: 0.09285140037536621 секунд\n"
     ]
    }
   ],
   "source": [
    "vector_size = 10000000\n",
    "vector = np.random.rand(vector_size)\n",
    "\n",
    "# Сложение на CPU\n",
    "start_time_cpu = time.time()\n",
    "result_cpu = vector_sum_cpu(vector)\n",
    "end_time_cpu = time.time()\n",
    "\n",
    "cpu_time = end_time_cpu - start_time_cpu\n",
    "print(f\"Сумма на CPU: {result_cpu}, Время выполнения на CPU: {cpu_time} секунд\")\n",
    "\n",
    "# Сложение на GPU\n",
    "start_time_gpu = time.time()\n",
    "result_gpu = vector_sum_gpu(vector)\n",
    "end_time_gpu = time.time()\n",
    "\n",
    "gpu_time = end_time_gpu - start_time_gpu\n",
    "print(f\"Сумма на GPU: {result_gpu}, Время выполнения на GPU: {gpu_time} секунд\")    "
   ]
  },
  {
   "cell_type": "code",
   "execution_count": 20,
   "metadata": {},
   "outputs": [
    {
     "name": "stdout",
     "output_type": "stream",
     "text": [
      "Сумма на CPU: 50001617.07631788, Время выполнения на CPU: 5.042378187179565 секунд\n",
      "Сумма на GPU: 50001617.07631542, Время выполнения на GPU: 0.6173648834228516 секунд\n"
     ]
    }
   ],
   "source": [
    "vector_size = 100000000\n",
    "vector = np.random.rand(vector_size)\n",
    "\n",
    "# Сложение на CPU\n",
    "start_time_cpu = time.time()\n",
    "result_cpu = vector_sum_cpu(vector)\n",
    "end_time_cpu = time.time()\n",
    "\n",
    "cpu_time = end_time_cpu - start_time_cpu\n",
    "print(f\"Сумма на CPU: {result_cpu}, Время выполнения на CPU: {cpu_time} секунд\")\n",
    "\n",
    "# Сложение на GPU\n",
    "start_time_gpu = time.time()\n",
    "result_gpu = vector_sum_gpu(vector)\n",
    "end_time_gpu = time.time()\n",
    "\n",
    "gpu_time = end_time_gpu - start_time_gpu\n",
    "print(f\"Сумма на GPU: {result_gpu}, Время выполнения на GPU: {gpu_time} секунд\")    "
   ]
  },
  {
   "cell_type": "code",
   "execution_count": 22,
   "metadata": {},
   "outputs": [
    {
     "name": "stdout",
     "output_type": "stream",
     "text": [
      "Сумма на CPU: 49998562.984551504, Время выполнения на CPU: 4.891952991485596 секунд\n",
      "Сумма на GPU: 49998562.98455838, Время выполнения на GPU: 0.4043457508087158 секунд\n"
     ]
    }
   ],
   "source": [
    "vector_size = 100000000\n",
    "vector = np.random.rand(vector_size)\n",
    "\n",
    "# Сложение на CPU\n",
    "start_time_cpu = time.time()\n",
    "result_cpu = vector_sum_cpu(vector)\n",
    "end_time_cpu = time.time()\n",
    "\n",
    "cpu_time = end_time_cpu - start_time_cpu\n",
    "print(f\"Сумма на CPU: {result_cpu}, Время выполнения на CPU: {cpu_time} секунд\")\n",
    "\n",
    "# Сложение на GPU\n",
    "start_time_gpu = time.time()\n",
    "result_gpu = vector_sum_gpu(vector)\n",
    "end_time_gpu = time.time()\n",
    "\n",
    "gpu_time = end_time_gpu - start_time_gpu\n",
    "print(f\"Сумма на GPU: {result_gpu}, Время выполнения на GPU: {gpu_time} секунд\")    "
   ]
  }
 ],
 "metadata": {
  "kernelspec": {
   "display_name": "Python 3",
   "language": "python",
   "name": "python3"
  },
  "language_info": {
   "codemirror_mode": {
    "name": "ipython",
    "version": 3
   },
   "file_extension": ".py",
   "mimetype": "text/x-python",
   "name": "python",
   "nbconvert_exporter": "python",
   "pygments_lexer": "ipython3",
   "version": "3.10.11"
  }
 },
 "nbformat": 4,
 "nbformat_minor": 2
}
