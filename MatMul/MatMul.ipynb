{
 "cells": [
  {
   "cell_type": "code",
   "execution_count": 12,
   "metadata": {},
   "outputs": [],
   "source": [
    "import numpy as np\n",
    "import cupy as cp\n",
    "import time"
   ]
  },
  {
   "cell_type": "code",
   "execution_count": 13,
   "metadata": {},
   "outputs": [],
   "source": [
    "def matrix_multiply_cpu(matrix_a, matrix_b):\n",
    "    # Проверка корректности перемножения\n",
    "    if matrix_a.shape[1] != matrix_b.shape[0]:\n",
    "        raise ValueError(\"Неправильные размеры матриц для перемножения\")\n",
    "\n",
    "    result = np.zeros((matrix_a.shape[0], matrix_b.shape[1]))\n",
    "\n",
    "    start_time = time.time()\n",
    "    for i in range(matrix_a.shape[0]):\n",
    "        for j in range(matrix_b.shape[1]):\n",
    "            for k in range(matrix_a.shape[1]):\n",
    "                result[i, j] += matrix_a[i, k] * matrix_b[k, j]\n",
    "    end_time = time.time()\n",
    "\n",
    "    return result, end_time - start_time"
   ]
  },
  {
   "cell_type": "code",
   "execution_count": 14,
   "metadata": {},
   "outputs": [],
   "source": [
    "matrix_mult_kernel = cp.RawKernel(r'''\n",
    "extern \"C\" __global__\n",
    "void matrix_mult(const float* A, const float* B, float* C, int N, int M, int K) {\n",
    "    // Calculate global thread indices\n",
    "    int row = blockIdx.y * blockDim.y + threadIdx.y;\n",
    "    int col = blockIdx.x * blockDim.x + threadIdx.x;\n",
    "\n",
    "    if (row < N && col < K) {\n",
    "        float value = 0.0;\n",
    "        for (int k = 0; k < M; ++k) {\n",
    "            value += A[row * M + k] * B[k * K + col];\n",
    "        }\n",
    "        C[row * K + col] = value;\n",
    "    }\n",
    "}\n",
    "''', 'matrix_mult')\n"
   ]
  },
  {
   "cell_type": "code",
   "execution_count": 15,
   "metadata": {},
   "outputs": [],
   "source": [
    "def matrix_multiply_gpu(matrix_a, matrix_b):\n",
    "    # Check dimensions\n",
    "    if matrix_a.shape[1] != matrix_b.shape[0]:\n",
    "        raise ValueError(\"Неправильные размеры матриц для перемножения\")\n",
    "\n",
    "    # Transfer matrices to GPU\n",
    "    matrix_a_gpu = cp.asarray(matrix_a)\n",
    "    matrix_b_gpu = cp.asarray(matrix_b)\n",
    "\n",
    "    # Prepare a result matrix\n",
    "    result_gpu = cp.empty((matrix_a.shape[0], matrix_b.shape[1]), dtype=cp.float32)\n",
    "\n",
    "    # Define grid and block sizes\n",
    "    N, M = matrix_a.shape\n",
    "    K = matrix_b.shape[1]\n",
    "    block_size = (16, 16)  # Set block size\n",
    "    grid_size = (int(np.ceil(K / block_size[0])), int(np.ceil(N / block_size[1])))\n",
    "\n",
    "    # Measure execution time\n",
    "    start_time = time.time()\n",
    "\n",
    "    # Launch the kernel\n",
    "    matrix_mult_kernel(grid_size, block_size, (matrix_a_gpu, matrix_b_gpu, result_gpu, N, M, K))\n",
    "\n",
    "    # Retrieve the result from GPU\n",
    "    result = cp.asnumpy(result_gpu)\n",
    "\n",
    "    end_time = time.time()\n",
    "    return result, end_time - start_time  # Return the result and execution time\n"
   ]
  },
  {
   "cell_type": "code",
   "execution_count": 16,
   "metadata": {},
   "outputs": [
    {
     "name": "stdout",
     "output_type": "stream",
     "text": [
      "Время на CPU: 0.28499746322631836 секунд\n",
      "Время на GPU: 0.04199838638305664 секунд\n"
     ]
    }
   ],
   "source": [
    "matrix_size = (100, 100)\n",
    "matrix_a = np.random.rand(*matrix_size)\n",
    "matrix_b = np.random.rand(*matrix_size)\n",
    "\n",
    "result_cpu, time_cpu = matrix_multiply_cpu(matrix_a, matrix_b)\n",
    "result_gpu, time_gpu = matrix_multiply_gpu(matrix_a, matrix_b)\n",
    "\n",
    "# print(f\"Результат на CPU:\\n{result_cpu}\")\n",
    "print(f\"Время на CPU: {time_cpu} секунд\")\n",
    "\n",
    "# print(f\"Результат на GPU:\\n{result_gpu}\")\n",
    "print(f\"Время на GPU: {time_gpu} секунд\")"
   ]
  },
  {
   "cell_type": "code",
   "execution_count": 17,
   "metadata": {},
   "outputs": [
    {
     "name": "stdout",
     "output_type": "stream",
     "text": [
      "Время на CPU: 4.263211250305176 секунд\n",
      "Время на GPU: 0.001001596450805664 секунд\n"
     ]
    }
   ],
   "source": [
    "matrix_size = (250, 250)\n",
    "matrix_a = np.random.rand(*matrix_size)\n",
    "matrix_b = np.random.rand(*matrix_size)\n",
    "\n",
    "result_cpu, time_cpu = matrix_multiply_cpu(matrix_a, matrix_b)\n",
    "result_gpu, time_gpu = matrix_multiply_gpu(matrix_a, matrix_b)\n",
    "\n",
    "# print(f\"Результат на CPU:\\n{result_cpu}\")\n",
    "print(f\"Время на CPU: {time_cpu} секунд\")\n",
    "\n",
    "#print(f\"Результат на GPU:\\n{result_gpu}\")\n",
    "print(f\"Время на GPU: {time_gpu} секунд\")"
   ]
  },
  {
   "cell_type": "code",
   "execution_count": 18,
   "metadata": {},
   "outputs": [
    {
     "name": "stdout",
     "output_type": "stream",
     "text": [
      "Время на CPU: 35.20660090446472 секунд\n",
      "Время на GPU: 0.22099924087524414 секунд\n"
     ]
    }
   ],
   "source": [
    "matrix_size = (500, 500)\n",
    "matrix_a = np.random.rand(*matrix_size)\n",
    "matrix_b = np.random.rand(*matrix_size)\n",
    "\n",
    "result_cpu, time_cpu = matrix_multiply_cpu(matrix_a, matrix_b)\n",
    "result_gpu, time_gpu = matrix_multiply_gpu(matrix_a, matrix_b)\n",
    "\n",
    "#print(f\"Результат на CPU:\\n{result_cpu}\")\n",
    "print(f\"Время на CPU: {time_cpu} секунд\")\n",
    "\n",
    "#print(f\"Результат на GPU:\\n{result_gpu}\")\n",
    "print(f\"Время на GPU: {time_gpu} секунд\")"
   ]
  },
  {
   "cell_type": "code",
   "execution_count": 19,
   "metadata": {},
   "outputs": [
    {
     "name": "stdout",
     "output_type": "stream",
     "text": [
      "Время на CPU: 284.62263679504395 секунд\n",
      "Время на GPU: 0.26085448265075684 секунд\n"
     ]
    }
   ],
   "source": [
    "matrix_size = (1000, 1000)\n",
    "matrix_a = np.random.rand(*matrix_size)\n",
    "matrix_b = np.random.rand(*matrix_size)\n",
    "\n",
    "result_cpu, time_cpu = matrix_multiply_cpu(matrix_a, matrix_b)\n",
    "result_gpu, time_gpu = matrix_multiply_gpu(matrix_a, matrix_b)\n",
    "\n",
    "#print(f\"Результат на CPU:\\n{result_cpu}\")\n",
    "print(f\"Время на CPU: {time_cpu} секунд\")\n",
    "\n",
    "#print(f\"Результат на GPU:\\n{result_gpu}\")\n",
    "print(f\"Время на GPU: {time_gpu} секунд\")"
   ]
  },
  {
   "cell_type": "code",
   "execution_count": 20,
   "metadata": {},
   "outputs": [
    {
     "name": "stdout",
     "output_type": "stream",
     "text": [
      "Время на CPU: 967.6187109947205 секунд\n",
      "Время на GPU: 0.15502214431762695 секунд\n"
     ]
    }
   ],
   "source": [
    "matrix_size = (1500, 1500)\n",
    "matrix_a = np.random.rand(*matrix_size)\n",
    "matrix_b = np.random.rand(*matrix_size)\n",
    "\n",
    "result_cpu, time_cpu = matrix_multiply_cpu(matrix_a, matrix_b)\n",
    "result_gpu, time_gpu = matrix_multiply_gpu(matrix_a, matrix_b)\n",
    "\n",
    "#print(f\"Результат на CPU:\\n{result_cpu}\")\n",
    "print(f\"Время на CPU: {time_cpu} секунд\")\n",
    "\n",
    "#print(f\"Результат на GPU:\\n{result_gpu}\")\n",
    "print(f\"Время на GPU: {time_gpu} секунд\")"
   ]
  },
  {
   "cell_type": "code",
   "execution_count": 21,
   "metadata": {},
   "outputs": [
    {
     "name": "stdout",
     "output_type": "stream",
     "text": [
      "Время на CPU: 2306.75697183609 секунд\n",
      "Время на GPU: 0.22819042205810547 секунд\n"
     ]
    }
   ],
   "source": [
    "matrix_size = (2000, 2000)\n",
    "matrix_a = np.random.rand(*matrix_size)\n",
    "matrix_b = np.random.rand(*matrix_size)\n",
    "\n",
    "result_cpu, time_cpu = matrix_multiply_cpu(matrix_a, matrix_b)\n",
    "result_gpu, time_gpu = matrix_multiply_gpu(matrix_a, matrix_b)\n",
    "\n",
    "#print(f\"Результат на CPU:\\n{result_cpu}\")\n",
    "print(f\"Время на CPU: {time_cpu} секунд\")\n",
    "\n",
    "#print(f\"Результат на GPU:\\n{result_gpu}\")\n",
    "print(f\"Время на GPU: {time_gpu} секунд\")"
   ]
  }
 ],
 "metadata": {
  "kernelspec": {
   "display_name": "Python 3",
   "language": "python",
   "name": "python3"
  },
  "language_info": {
   "codemirror_mode": {
    "name": "ipython",
    "version": 3
   },
   "file_extension": ".py",
   "mimetype": "text/x-python",
   "name": "python",
   "nbconvert_exporter": "python",
   "pygments_lexer": "ipython3",
   "version": "3.10.11"
  }
 },
 "nbformat": 4,
 "nbformat_minor": 2
}
